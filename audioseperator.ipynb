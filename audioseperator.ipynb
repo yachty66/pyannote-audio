{
 "cells": [
  {
   "cell_type": "code",
   "execution_count": null,
   "metadata": {},
   "outputs": [],
   "source": [
    "\"\"\"\n",
    "need to find the best libraries for separating speech of the speakers from the video\n",
    "\n",
    "should try the following:\n",
    "\n",
    "- native pyannote\n",
    "- can try if https://replicate.com/lucataco/mvsep-mdx23-music-separation works for speakers as well\n",
    "- https://huggingface.co/speechbrain/sepformer-wham\n",
    "- https://github.com/facebookresearch/svoice\n",
    "- https://github.com/JusperLee/TDANet\n",
    "- https://github.com/modelscope/ClearerVoice-Studio\n",
    "- https://github.com/wenet-e2e/wesep\n",
    "\n",
    "basically want to test each of the repos on my example audio file\n",
    "\n",
    "might be better if i collect one more sample audio for testing\n",
    "\n",
    "the question is also how to structuarally represent this somehow - the simplest way is tto make a folder structure like\n",
    "\n",
    "- audio-separation-samples\n",
    "    - sample1.wav\n",
    "    - sample2.wav\n",
    "    - svoice\n",
    "        - sample1-result.wav\n",
    "        - sample2-result.wav\n",
    "    - pyannote\n",
    "        - sample1-result.wav\n",
    "        - sample2-result.wav\n",
    "    - ...\n",
    "\"\"\""
   ]
  },
  {
   "cell_type": "code",
   "execution_count": null,
   "metadata": {},
   "outputs": [],
   "source": []
  }
 ],
 "metadata": {
  "kernelspec": {
   "display_name": "env",
   "language": "python",
   "name": "python3"
  },
  "language_info": {
   "name": "python",
   "version": "3.12.9"
  }
 },
 "nbformat": 4,
 "nbformat_minor": 2
}
